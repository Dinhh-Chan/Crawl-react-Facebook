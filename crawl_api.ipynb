{
 "cells": [
  {
   "cell_type": "code",
   "execution_count": 17,
   "metadata": {},
   "outputs": [],
   "source": [
    "from selenium import webdriver\n",
    "from selenium.webdriver.common.keys import Keys\n",
    "from selenium.webdriver.support import expected_conditions as EC\n",
    "from selenium.webdriver.common.by import By\n",
    "from selenium.webdriver.support.wait import WebDriverWait\n",
    "from webdriver_manager.chrome import ChromeDriverManager\n",
    "from selenium.webdriver.common.by import By\n",
    "from selenium.webdriver.support import expected_conditions as EC\n",
    "import time\n",
    "from selenium import webdriver\n",
    "from selenium.webdriver.support.ui import WebDriverWait\n",
    "from time import sleep\n",
    "import geckodriver_autoinstaller\n",
    "from selenium.webdriver.chrome.service import Service\n",
    "from webdriver_manager.chrome import ChromeDriverManager\n",
    "from selenium.webdriver.chrome.options import Options\n",
    "from pyfacebook import GraphAPI\n",
    "import facebook \n",
    "from facebook_business.api import FacebookAdsApi\n",
    "\n",
    "\n"
   ]
  },
  {
   "cell_type": "code",
   "execution_count": 18,
   "metadata": {},
   "outputs": [
    {
     "ename": "AttributeError",
     "evalue": "module 'facebook' has no attribute 'GraphAPI'",
     "output_type": "error",
     "traceback": [
      "\u001b[1;31m---------------------------------------------------------------------------\u001b[0m",
      "\u001b[1;31mAttributeError\u001b[0m                            Traceback (most recent call last)",
      "Cell \u001b[1;32mIn[18], line 3\u001b[0m\n\u001b[0;32m      1\u001b[0m \u001b[38;5;28;01mimport\u001b[39;00m \u001b[38;5;21;01mfacebook\u001b[39;00m\n\u001b[1;32m----> 3\u001b[0m graph \u001b[38;5;241m=\u001b[39m \u001b[43mfacebook\u001b[49m\u001b[38;5;241;43m.\u001b[39;49m\u001b[43mGraphAPI\u001b[49m(access_token\u001b[38;5;241m=\u001b[39m\u001b[38;5;124m'\u001b[39m\u001b[38;5;124mEAABsbCS1iHgBOxAI4dQ7fyKFYAcjZBeztxO2n5AGKxFZBh5W2KsTCvQkrjvRnL7bljG5osqNncSilHfPMZBr1yKTk7JqDGtjwC3Y00jJr8utqVWANso7ecsRPVIvULWhddW6GgrmbDA3ttIP8hHLm8EDJ76zZAXXDQwBzHHUkJQBar5QcDbHY4Eb7wZDZD\u001b[39m\u001b[38;5;124m'\u001b[39m)\n\u001b[0;32m      5\u001b[0m \u001b[38;5;66;03m# Lấy dữ liệu về bài đăng\u001b[39;00m\n\u001b[0;32m      6\u001b[0m post \u001b[38;5;241m=\u001b[39m graph\u001b[38;5;241m.\u001b[39mget_object(\u001b[38;5;124m'\u001b[39m\u001b[38;5;124m1326652451350594\u001b[39m\u001b[38;5;124m'\u001b[39m)\n",
      "\u001b[1;31mAttributeError\u001b[0m: module 'facebook' has no attribute 'GraphAPI'"
     ]
    }
   ],
   "source": [
    "import facebook\n",
    "\n",
    "graph = facebook.GraphAPI(access_token='EAABsbCS1iHgBOxAI4dQ7fyKFYAcjZBeztxO2n5AGKxFZBh5W2KsTCvQkrjvRnL7bljG5osqNncSilHfPMZBr1yKTk7JqDGtjwC3Y00jJr8utqVWANso7ecsRPVIvULWhddW6GgrmbDA3ttIP8hHLm8EDJ76zZAXXDQwBzHHUkJQBar5QcDbHY4Eb7wZDZD')\n",
    "\n",
    "# Lấy dữ liệu về bài đăng\n",
    "post = graph.get_object('1326652451350594')\n",
    "\n",
    "# Lấy số lượng lượt thích\n",
    "likes = post['likes']['summary']['total_count']\n",
    "\n",
    "# Lấy số lượng bình luận\n",
    "comments = post['comments']['summary']['total_count']\n",
    "\n",
    "print('Số lượng lượt thích:', likes)\n",
    "print('Số lượng bình luận:', comments)\n",
    "\n",
    "\n",
    "\n"
   ]
  },
  {
   "cell_type": "code",
   "execution_count": null,
   "metadata": {},
   "outputs": [],
   "source": [
    "from facebook_business.api import FacebookAdsApi\n",
    "from facebook_business.adobjects.adaccount import AdAccount\n",
    "\n",
    "my_app_id = 'your-app-id'\n",
    "my_app_secret = 'your-appsecret'\n",
    "my_access_token = 'EAABsbCS1iHgBOxAI4dQ7fyKFYAcjZBeztxO2n5AGKxFZBh5W2KsTCvQkrjvRnL7bljG5osqNncSilHfPMZBr1yKTk7JqDGtjwC3Y00jJr8utqVWANso7ecsRPVIvULWhddW6GgrmbDA3ttIP8hHLm8EDJ76zZAXXDQwBzHHUkJQBar5QcDbHY4Eb7wZDZD'\n",
    "FacebookAdsApi.init(my_app_id, my_app_secret, my_access_token)\n",
    "my_account = AdAccount('act_<your-adaccount-id>')\n",
    "campaigns = my_account.get_campaigns()\n",
    "print(campaigns)"
   ]
  }
 ],
 "metadata": {
  "kernelspec": {
   "display_name": "Python 3",
   "language": "python",
   "name": "python3"
  },
  "language_info": {
   "codemirror_mode": {
    "name": "ipython",
    "version": 3
   },
   "file_extension": ".py",
   "mimetype": "text/x-python",
   "name": "python",
   "nbconvert_exporter": "python",
   "pygments_lexer": "ipython3",
   "version": "3.12.1"
  }
 },
 "nbformat": 4,
 "nbformat_minor": 2
}
